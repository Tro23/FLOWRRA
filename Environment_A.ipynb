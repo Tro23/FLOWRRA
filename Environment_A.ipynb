{
 "cells": [
  {
   "cell_type": "markdown",
   "id": "24bced99-60b9-498e-90fc-fde7c9fe7bcd",
   "metadata": {},
   "source": [
    "### Environment-A\n",
    "- Construction of disks with 'eyes' (directions)\n",
    "- Creating a loop of those directions. "
   ]
  },
  {
   "cell_type": "code",
   "execution_count": 1,
   "id": "35f97285-62d3-4d61-9b80-96a890118f02",
   "metadata": {
    "scrolled": true
   },
   "outputs": [],
   "source": [
    "import numpy as np\n",
    "import random\n",
    "import matplotlib.pyplot as plt\n",
    "import matplotlib.patches as patches\n",
    "import matplotlib.animation as animation"
   ]
  },
  {
   "cell_type": "code",
   "execution_count": 2,
   "id": "b8146742-e3eb-4e73-b45a-e71e1e464c3a",
   "metadata": {
    "scrolled": true
   },
   "outputs": [],
   "source": [
    "# Constants\n",
    "GRID_SIZE = 30\n",
    "NUM_NODES = 12\n",
    "ANGLE_STEPS = 36 #360/36 = 10, so the arrows move 10 degrees at once"
   ]
  },
  {
   "cell_type": "code",
   "execution_count": 3,
   "id": "9c8ba285-fd5f-4785-95c7-145e2c5df6da",
   "metadata": {
    "scrolled": true
   },
   "outputs": [],
   "source": [
    "#Making the 2D-Grid\n",
    "grid_size = GRID_SIZE\n",
    "grid = np.zeros((grid_size, grid_size))\n",
    "\n"
   ]
  },
  {
   "cell_type": "code",
   "execution_count": 4,
   "id": "c8ead64b-fd55-4f7d-8b79-9553536fd12f",
   "metadata": {},
   "outputs": [],
   "source": [
    "#initialize positions and angles, call the disks as nodes\n",
    "nodes = []\n",
    "position = ()  # (x, y)\n",
    "eye_angle_idx = 0  # index from 0 to 35\n",
    "connected_to = None  # another DiskNode ID"
   ]
  },
  {
   "cell_type": "code",
   "execution_count": 5,
   "id": "eca1f733-b9ff-467f-98e3-aee29b07ea1d",
   "metadata": {},
   "outputs": [],
   "source": [
    "def eye_direction(eye_angle_idx):\n",
    "    eye_angle = eye_angle_idx\n",
    "    angle_deg = eye_angle * 10\n",
    "    rad = np.deg2rad(angle_deg)\n",
    "    return np.cos(rad), np.sin(rad)"
   ]
  },
  {
   "cell_type": "code",
   "execution_count": 6,
   "id": "b81edd4c-d2c1-48b9-a832-9f262c393851",
   "metadata": {},
   "outputs": [],
   "source": [
    "def initialize_nodes(nodes, positions, angle_steps):\n",
    "    positions = positions\n",
    "    angle_steps = angle_steps\n",
    "    for i, pos in enumerate(positions):\n",
    "        angle_idx = random.randint(0, angle_steps-1)\n",
    "        eye = eye_direction(angle_idx)\n",
    "        nodes_tuple = (i, pos, eye)\n",
    "        nodes.append(list(nodes_tuple))\n",
    "    return nodes"
   ]
  },
  {
   "cell_type": "code",
   "execution_count": 7,
   "id": "65e986dd-a2ff-4a0c-907d-e98900d988f3",
   "metadata": {},
   "outputs": [],
   "source": [
    "def get_valid_positions(num_nodes,grid_size):\n",
    "    positions = set()\n",
    "    grid_size = grid_size\n",
    "    while len(positions) < num_nodes:\n",
    "        x, y = random.randint(1, grid_size - 2), random.randint(1, grid_size - 2)\n",
    "        positions.add((x, y))\n",
    "    return list(positions)"
   ]
  },
  {
   "cell_type": "code",
   "execution_count": 8,
   "id": "e0c03b67-79b4-4001-b986-02ab723b72f6",
   "metadata": {},
   "outputs": [],
   "source": [
    "positions = get_valid_positions(num_nodes=NUM_NODES,grid_size=GRID_SIZE)"
   ]
  },
  {
   "cell_type": "code",
   "execution_count": 21,
   "id": "ff72497f-fcd6-4b6d-b5c8-207bba899199",
   "metadata": {},
   "outputs": [],
   "source": [
    "initialized_nodes = initialize_nodes(nodes, positions, angle_steps=ANGLE_STEPS)"
   ]
  },
  {
   "cell_type": "code",
   "execution_count": 10,
   "id": "f1b5ad4e-606a-42da-9181-07c752d47d7a",
   "metadata": {},
   "outputs": [
    {
     "data": {
      "text/plain": [
       "[[0, (4, 10), (-0.5000000000000004, -0.8660254037844385)],\n",
       " [1, (5, 15), (-0.7660444431189779, 0.6427876096865395)],\n",
       " [2, (12, 7), (0.7660444431189778, -0.6427876096865396)],\n",
       " [3, (21, 13), (0.6427876096865394, 0.766044443118978)],\n",
       " [4, (6, 20), (-0.17364817766693033, -0.984807753012208)],\n",
       " [5, (28, 3), (0.6427876096865394, 0.766044443118978)],\n",
       " [6, (20, 26), (0.7660444431189778, -0.6427876096865396)],\n",
       " [7, (7, 9), (-0.4999999999999998, 0.8660254037844387)],\n",
       " [8, (16, 15), (0.984807753012208, -0.1736481776669304)],\n",
       " [9, (15, 19), (-0.34202014332566855, -0.9396926207859084)],\n",
       " [10, (15, 12), (0.7660444431189778, -0.6427876096865396)],\n",
       " [11, (21, 17), (-0.6427876096865395, -0.7660444431189779)]]"
      ]
     },
     "execution_count": 10,
     "metadata": {},
     "output_type": "execute_result"
    }
   ],
   "source": [
    "nodes"
   ]
  },
  {
   "cell_type": "code",
   "execution_count": 12,
   "id": "de4f15e1-d651-4e96-941a-92efcb0d5ed9",
   "metadata": {},
   "outputs": [
    {
     "data": {
      "text/plain": [
       "[2, (12, 7), (0.7660444431189778, -0.6427876096865396)]"
      ]
     },
     "execution_count": 12,
     "metadata": {},
     "output_type": "execute_result"
    }
   ],
   "source": [
    "nodes[2]"
   ]
  },
  {
   "cell_type": "code",
   "execution_count": 17,
   "id": "573c0342-8398-45ad-850f-f4af40c4069e",
   "metadata": {},
   "outputs": [
    {
     "data": {
      "image/png": "[encoded data removed]",
      "text/plain": [
       "<Figure size 600x600 with 1 Axes>"
      ]
     },
     "metadata": {},
     "output_type": "display_data"
    }
   ],
   "source": [
    "# --- Matplotlib Setup ---\n",
    "fig, ax = plt.subplots(figsize=(6, 6))\n",
    "ax.set_xlim(0, GRID_SIZE)\n",
    "ax.set_ylim(0, GRID_SIZE)\n",
    "ax.set_title(\"Environment-A: Disks with directional arrows\")\n",
    "ax.set_xticks([])\n",
    "ax.set_yticks([])\n",
    "\n",
    "for node in nodes:\n",
    "    x, y = node[1]\n",
    "    dx, dy = node[2]\n",
    "    ax.plot(x + 0.5, y + 0.5, 'bo')  # Disk center\n",
    "    ax.arrow(x + 0.5, y + 0.5, 0.3 * dx, 0.3 * dy, head_width=0.2, head_length=0.2, fc='cyan', ec='orange')\n",
    "\n",
    "plt.gca().set_aspect('equal', adjustable='box')\n",
    "plt.tight_layout()\n",
    "plt.show()"
   ]
  },
  {
   "cell_type": "code",
   "execution_count": null,
   "id": "17c524d9-0740-41aa-a15e-9b3855dea6ff",
   "metadata": {},
   "outputs": [],
   "source": []
  }
 ],
 "metadata": {
  "kernelspec": {
   "display_name": "Python 3 (ipykernel)",
   "language": "python",
   "name": "python3"
  },
  "language_info": {
   "codemirror_mode": {
    "name": "ipython",
    "version": 3
   },
   "file_extension": ".py",
   "mimetype": "text/x-python",
   "name": "python",
   "nbconvert_exporter": "python",
   "pygments_lexer": "ipython3",
   "version": "3.12.4"
  }
 },
 "nbformat": 4,
 "nbformat_minor": 5
}
