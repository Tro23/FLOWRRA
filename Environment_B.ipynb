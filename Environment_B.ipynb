{
 "cells": [
  {
   "cell_type": "markdown",
   "id": "af6f21d8-7337-4dc9-b972-b5b94f7f0f3d",
   "metadata": {},
   "source": [
    "### Environment B\n",
    "- Constructing the 2D-Grid of 30x30.\n",
    "- Adding random blocks, once initialized, stays the same."
   ]
  },
  {
   "cell_type": "code",
   "execution_count": 1,
   "id": "1993e066-372a-4eaf-9307-09b5d4fc6d1e",
   "metadata": {
    "scrolled": true
   },
   "outputs": [],
   "source": [
    "%matplotlib notebook"
   ]
  },
  {
   "cell_type": "code",
   "execution_count": 1,
   "id": "826b3adc-22ab-4e68-9b13-e312b300f268",
   "metadata": {
    "scrolled": true
   },
   "outputs": [],
   "source": [
    "import numpy as np\n",
    "import random\n",
    "import matplotlib.pyplot as plt\n",
    "import matplotlib.patches as patches\n",
    "import matplotlib.animation as animation"
   ]
  },
  {
   "cell_type": "code",
   "execution_count": 2,
   "id": "76140ce9-e027-4bff-9f59-32ac766620da",
   "metadata": {
    "scrolled": true
   },
   "outputs": [],
   "source": [
    "# Constants\n",
    "GRID_SIZE = 30\n",
    "NUM_BLOCKS = 15\n",
    "NUM_MOVING_BLOCKS = 5"
   ]
  },
  {
   "cell_type": "code",
   "execution_count": 3,
   "id": "25c92e92-8132-44d0-844b-628a97785a6c",
   "metadata": {
    "scrolled": true
   },
   "outputs": [],
   "source": [
    "#Making the 2D-Grid\n",
    "grid_size = GRID_SIZE\n",
    "grid = np.zeros((grid_size, grid_size))\n",
    "\n",
    "#Generate Fixed Obstacles\n",
    "def generate_fixed_obstacles(grid_size, num_blocks, current_grid):\n",
    "    \"\"\"Generates fixed obstacles on the grid.\"\"\"\n",
    "    blocks = set()\n",
    "    while len(blocks) < num_blocks:\n",
    "        x, y = random.randint(0, grid_size - 1), random.randint(0, grid_size - 1)\n",
    "        if current_grid[x][y] == 0: # Ensure no overlap with existing blocks\n",
    "            blocks.add((x, y))\n",
    "            current_grid[x][y] = -1 # Mark as fixed obstacle\n",
    "    return blocks"
   ]
  },
  {
   "cell_type": "code",
   "execution_count": 4,
   "id": "6855c209-777d-49d1-a6de-cff1d4a6d055",
   "metadata": {
    "scrolled": true
   },
   "outputs": [],
   "source": [
    "#Initialize moving blocks\n",
    "def initialize_moving_blocks(grid_size, num_moving_blocks, fixed_blocks):\n",
    "    \"\"\"Initializes moving blocks, ensuring no overlap with fixed blocks.\"\"\"\n",
    "    moving_blocks_positions = []\n",
    "    # Using a set for efficient checking of occupied cells\n",
    "    occupied_cells = set(fixed_blocks) \n",
    "\n",
    "    while len(moving_blocks_positions) < num_moving_blocks:\n",
    "        x, y = random.randint(0, grid_size - 1), random.randint(0, grid_size - 1)\n",
    "        if (x, y) not in occupied_cells:\n",
    "            moving_blocks_positions.append({'pos': (x, y), 'patch': None}) # Store position and placeholder for patch\n",
    "            occupied_cells.add((x, y)) # Mark as occupied\n",
    "    return moving_blocks_positions"
   ]
  },
  {
   "cell_type": "code",
   "execution_count": 5,
   "id": "3da9a6c0-19b7-4267-8bb1-cfa6cd33eeec",
   "metadata": {
    "scrolled": true
   },
   "outputs": [],
   "source": [
    "# Moving blocks on the grid\n",
    "def move_block(block_info, grid_size, fixed_blocks, moving_blocks_positions):\n",
    "    \"\"\"\n",
    "    Calculates the next valid position for a single moving block.\n",
    "    Avoids collision with fixed blocks and other moving blocks.\n",
    "    \"\"\"\n",
    "    current_x, current_y = block_info['pos']\n",
    "    possible_moves = [(0, 1), (0, -1), (1, 0), (-1, 0)] # N, S, E, W\n",
    "    random.shuffle(possible_moves) # Randomize direction preference\n",
    "\n",
    "    for dx, dy in possible_moves:\n",
    "        new_x, new_y = current_x + dx, current_y + dy\n",
    "\n",
    "        # Check grid boundaries\n",
    "        if not (0 <= new_x < grid_size and 0 <= new_y < grid_size):\n",
    "            continue\n",
    "\n",
    "        # Check collision with fixed blocks\n",
    "        if (new_x, new_y) in fixed_blocks:\n",
    "            continue\n",
    "\n",
    "        # Check collision with other moving blocks in their *current* positions\n",
    "        # This is a simplification; for more robust collision, you'd need to\n",
    "        # consider future positions or use a turn-based system.\n",
    "        is_colliding_with_other_moving = False\n",
    "        for other_block_info in moving_blocks_positions:\n",
    "            if other_block_info['pos'] == (new_x, new_y) and other_block_info is not block_info:\n",
    "                is_colliding_with_other_moving = True\n",
    "                break\n",
    "        \n",
    "        if is_colliding_with_other_moving:\n",
    "            continue\n",
    "\n",
    "        # If a valid move is found, update the block's position\n",
    "        block_info['pos'] = (new_x, new_y)\n",
    "        return True # Successfully moved\n",
    "\n",
    "    return False # No valid move found for this step (block stays in place)\n",
    "\n",
    "# --- Setup the Grid and Blocks ---\n",
    "fixed_blocks_coords = generate_fixed_obstacles(GRID_SIZE, NUM_BLOCKS, grid)\n",
    "moving_blocks = initialize_moving_blocks(GRID_SIZE, NUM_MOVING_BLOCKS, fixed_blocks_coords)"
   ]
  },
  {
   "cell_type": "code",
   "execution_count": 6,
   "id": "a4ce1ce8-4267-4b8a-b387-d5578f37670b",
   "metadata": {
    "scrolled": true
   },
   "outputs": [
    {
     "data": {
      "image/png": "[encoded data removed]",
      "text/plain": [
       "<Figure size 600x600 with 1 Axes>"
      ]
     },
     "metadata": {},
     "output_type": "display_data"
    }
   ],
   "source": [
    "# --- Matplotlib Setup ---\n",
    "fig, ax = plt.subplots(figsize=(6, 6))\n",
    "ax.set_xlim(0, GRID_SIZE)\n",
    "ax.set_ylim(0, GRID_SIZE)\n",
    "ax.set_title(\"Environment-B with Moving Blocks\")\n",
    "ax.set_xticks([])\n",
    "ax.set_yticks([])\n",
    "\n",
    "# Draw fixed obstacles\n",
    "fixed_patches = []\n",
    "for (x, y) in fixed_blocks_coords:\n",
    "    square = patches.Rectangle((x, y), 1, 1, linewidth=0.5, edgecolor='black', facecolor='black')\n",
    "    ax.add_patch(square)\n",
    "    fixed_patches.append(square)\n",
    "\n",
    "# Initialize moving block patches\n",
    "moving_patches = []\n",
    "for block_info in moving_blocks:\n",
    "    x, y = block_info['pos']\n",
    "    square = patches.Rectangle((x, y), 1, 1, linewidth=0.5, edgecolor='black', facecolor='red') # Blue for moving\n",
    "    ax.add_patch(square)\n",
    "    block_info['patch'] = square # Store the patch reference in the block_info dictionary\n",
    "    moving_patches.append(square)\n",
    "\n",
    "plt.gca().set_aspect('equal', adjustable='box')"
   ]
  },
  {
   "cell_type": "code",
   "execution_count": 7,
   "id": "0cd2c808-f159-4f5a-b0db-047cb937b49b",
   "metadata": {
    "scrolled": true
   },
   "outputs": [
    {
     "data": {
      "text/plain": [
       "<Figure size 640x480 with 0 Axes>"
      ]
     },
     "metadata": {},
     "output_type": "display_data"
    }
   ],
   "source": [
    "# --- Animation Function ---\n",
    "def animate(frame):\n",
    "    \"\"\"\n",
    "    This function is called repeatedly by the animation.\n",
    "    It updates the positions of the moving blocks.\n",
    "    \"\"\"\n",
    "    for block_info in moving_blocks:\n",
    "        move_block(block_info, GRID_SIZE, fixed_blocks_coords, moving_blocks)\n",
    "        x, y = block_info['pos']\n",
    "        block_info['patch'].set_xy((x, y)) # Update the patch's position\n",
    "\n",
    "    return moving_patches # Return the list of patches that were modified\n",
    "\n",
    "# Create the animation\n",
    "# frames: number of frames (e.g., 200 steps)\n",
    "# interval: delay between frames in milliseconds (e.g., 200ms)\n",
    "ani = animation.FuncAnimation(fig, animate, frames=200, interval=200, blit=False, repeat=True)\n",
    "\n",
    "plt.tight_layout()\n",
    "plt.show()"
   ]
  },
  {
   "cell_type": "code",
   "execution_count": null,
   "id": "9e44777c-1874-4c85-88a5-8e80f6531937",
   "metadata": {},
   "outputs": [],
   "source": []
  }
 ],
 "metadata": {
  "kernelspec": {
   "display_name": "Python 3",
   "language": "python",
   "name": "python3"
  },
  "language_info": {
   "codemirror_mode": {
    "name": "ipython",
    "version": 3
   },
   "file_extension": ".py",
   "mimetype": "text/x-python",
   "name": "python",
   "nbconvert_exporter": "python",
   "pygments_lexer": "ipython3",
   "version": "3.12.4"
  }
 },
 "nbformat": 4,
 "nbformat_minor": 5
}
