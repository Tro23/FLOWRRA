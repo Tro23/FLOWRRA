{
 "cells": [
  {
   "cell_type": "markdown",
   "id": "1d451f13",
   "metadata": {},
   "source": [
    "## FLOWRRA - Prototype"
   ]
  },
  {
   "cell_type": "code",
   "execution_count": 1,
   "id": "6a2109a0",
   "metadata": {},
   "outputs": [],
   "source": [
    "import numpy as np\n",
    "import random\n",
    "import matplotlib.pyplot as plt\n",
    "\n",
    "# Constants\n",
    "GRID_SIZE = 30\n",
    "NUM_NODES = 12\n",
    "ANGLE_STEPS = 36  # i.e. 360/10 = 36 directions\n",
    "\n",
    "\n",
    "\n",
    "class DiskNode:\n",
    "    def __init__(self, node_id, position, eye_angle_idx):\n",
    "        self.id = node_id\n",
    "        self.position = position  # (x, y)\n",
    "        self.eye_angle_idx = eye_angle_idx  # index from 0 to 35\n",
    "        self.connected_to = None  # another DiskNode ID\n",
    "\n",
    "    def rotate_eye(self, delta=1):\n",
    "        self.eye_angle_idx = (self.eye_angle_idx + delta) % ANGLE_STEPS\n",
    "\n",
    "    def eye_direction(self):\n",
    "        angle_deg = self.eye_angle_idx * 10\n",
    "        rad = np.deg2rad(angle_deg)\n",
    "        return np.cos(rad), np.sin(rad)\n",
    "\n",
    "\n"
   ]
  },
  {
   "cell_type": "code",
   "execution_count": 2,
   "id": "627bad08",
   "metadata": {},
   "outputs": [],
   "source": [
    "# ------------------------------------------------\n",
    "# ENVIRONMENT A + AGENT LOOP (Unified)\n",
    "# ------------------------------------------------\n",
    "\n",
    "\n",
    "class LoopAgent:\n",
    "    def __init__(self, grid_size, num_nodes, num_blocks=20):\n",
    "        self.grid_size = grid_size\n",
    "        self.grid = np.zeros((grid_size, grid_size))\n",
    "        self.blocks = self.generate_obstacles(num_blocks)\n",
    "        self.nodes = []\n",
    "        self.wave_history = []\n",
    "        self.initialize_nodes(num_nodes)\n",
    "        self.construct_initial_loop()\n",
    "\n",
    "    def generate_obstacles(self, num_blocks):\n",
    "        blocks = set()\n",
    "        while len(blocks) < num_blocks:\n",
    "            x, y = random.randint(0, self.grid_size - 1), random.randint(0, self.grid_size - 1)\n",
    "            blocks.add((x, y))\n",
    "        for x, y in blocks:\n",
    "            self.grid[x][y] = -1  # Mark as obstacle\n",
    "        return blocks\n",
    "\n",
    "    def initialize_nodes(self, num_nodes):\n",
    "        positions = self.get_valid_positions(num_nodes)\n",
    "        for i, pos in enumerate(positions):\n",
    "            angle_idx = random.randint(0, ANGLE_STEPS-1)\n",
    "            self.nodes.append(DiskNode(i, pos, angle_idx))\n",
    "\n",
    "    def get_valid_positions(self, num_nodes):\n",
    "        positions = set()\n",
    "        while len(positions) < num_nodes:\n",
    "            x, y = random.randint(1, self.grid_size - 2), random.randint(1, self.grid_size - 2)\n",
    "            if (x, y) not in self.blocks:\n",
    "                positions.add((x, y))\n",
    "        return list(positions)\n",
    "\n",
    "    def construct_initial_loop(self):\n",
    "        for i in range(len(self.nodes)):\n",
    "            self.nodes[i].connected_to = self.nodes[(i+1) % len(self.nodes)].id\n",
    "        self.update_wave_function()\n",
    "\n",
    "    def update_wave_function(self):\n",
    "        coherence = self.compute_coherence()\n",
    "        wave = {\n",
    "            'time': len(self.wave_history),\n",
    "            'coherence': coherence,\n",
    "            'states': [(n.position, n.eye_angle_idx) for n in self.nodes]\n",
    "        }\n",
    "        self.wave_history.append(wave)\n",
    "\n",
    "    def compute_coherence(self):\n",
    "        aligned = 0\n",
    "        for node in self.nodes:\n",
    "            target_id = node.connected_to\n",
    "            if target_id is None: continue\n",
    "            target = self.nodes[target_id]\n",
    "            dx, dy = target.position[0] - node.position[0], target.position[1] - node.position[1]\n",
    "            vx, vy = node.eye_direction()\n",
    "            dot_product = dx * vx + dy * vy\n",
    "            distance = np.linalg.norm([dx, dy]) + 1e-5\n",
    "            alignment_score = dot_product / distance\n",
    "            if alignment_score > 0.5:  # threshold for \"good enough\"\n",
    "                aligned += 1\n",
    "        return aligned / len(self.nodes)\n",
    "\n",
    "    def step(self, noise=0.1):\n",
    "        for node in self.nodes:\n",
    "            if random.random() < noise:\n",
    "                node.rotate_eye(random.choice([-1, 1]))\n",
    "        self.update_wave_function()\n",
    "\n",
    "    def disturb(self, kind=\"remove\"):\n",
    "        if kind == \"remove\":\n",
    "            if len(self.nodes) > 3:\n",
    "                idx = random.randint(0, len(self.nodes) - 1)\n",
    "                self.nodes.pop(idx)\n",
    "                # re-wire loop\n",
    "                for i in range(len(self.nodes)):\n",
    "                    self.nodes[i].connected_to = self.nodes[(i + 1) % len(self.nodes)].id\n",
    "        elif kind == \"rotate\":\n",
    "            for _ in range(3):\n",
    "                node = random.choice(self.nodes)\n",
    "                node.rotate_eye(random.randint(5, 15))  # large disturbance\n",
    "        self.update_wave_function()\n",
    "\n",
    "    def retrocollapse(self):\n",
    "        if len(self.wave_history) < 2:\n",
    "            return\n",
    "        prev_state = self.wave_history[-2]['states']\n",
    "        for i, node in enumerate(self.nodes):\n",
    "            if i >= len(prev_state):\n",
    "                continue\n",
    "            pos, angle = prev_state[i]\n",
    "            # Partial collapse with stochasticity\n",
    "            if random.random() < 0.7:\n",
    "                node.eye_angle_idx = angle\n",
    "        self.update_wave_function()\n"
   ]
  },
  {
   "cell_type": "code",
   "execution_count": 3,
   "id": "38a8e9f5",
   "metadata": {},
   "outputs": [
    {
     "name": "stdout",
     "output_type": "stream",
     "text": [
      "Disturbing...\n",
      "Retro-causal Collapse initiated...\n"
     ]
    },
    {
     "data": {
      "image/png": "[encoded data removed]",
      "text/plain": [
       "<Figure size 1000x400 with 1 Axes>"
      ]
     },
     "metadata": {},
     "output_type": "display_data"
    }
   ],
   "source": [
    "\n",
    "def run_simulation():\n",
    "    agent = LoopAgent(grid_size=GRID_SIZE, num_nodes=NUM_NODES, num_blocks=25)\n",
    "    \n",
    "    for t in range(50):\n",
    "        if t == 20:\n",
    "            print(\"Disturbing...\")\n",
    "            agent.disturb(kind=\"rotate\")\n",
    "        if t == 25:\n",
    "            print(\"Retro-causal Collapse initiated...\")\n",
    "            agent.retrocollapse()\n",
    "        agent.step()\n",
    "\n",
    "    # Visualize coherence\n",
    "    coherence_vals = [w['coherence'] for w in agent.wave_history]\n",
    "    plt.figure(figsize=(10, 4))\n",
    "    plt.plot(coherence_vals, marker='o', linestyle='-', color='dodgerblue')\n",
    "    plt.xlabel(\"Time Step\")\n",
    "    plt.ylabel(\"Loop Coherence Ψ(t)\")\n",
    "    plt.title(\"FLOWRRA Loop Resilience with Retro-Causal Collapse\")\n",
    "    plt.grid(True)\n",
    "    plt.tight_layout()\n",
    "    plt.show()\n",
    "\n",
    "run_simulation()\n"
   ]
  },
  {
   "cell_type": "code",
   "execution_count": 6,
   "id": "44ac394f-6951-4fff-8562-3c14bb2051ca",
   "metadata": {},
   "outputs": [
    {
     "data": {
      "image/png": "[encoded data removed]",
      "text/plain": [
       "<Figure size 600x600 with 1 Axes>"
      ]
     },
     "metadata": {},
     "output_type": "display_data"
    }
   ],
   "source": [
    "#Visualization\n",
    "\n",
    "import matplotlib.pyplot as plt\n",
    "import matplotlib.patches as patches\n",
    "\n",
    "def visualize_grid(agent, timestep):\n",
    "    agent = agent\n",
    "    fig, ax = plt.subplots(figsize=(6, 6))\n",
    "    ax.set_xlim(0, agent.grid_size)\n",
    "    ax.set_ylim(0, agent.grid_size)\n",
    "    ax.set_title(f\"FLOWRRA Grid Visualization – t={timestep}\")\n",
    "    ax.set_xticks([])\n",
    "    ax.set_yticks([])\n",
    "\n",
    "    # Draw obstacles\n",
    "    for (x, y) in agent.blocks:\n",
    "        rect = patches.Rectangle((x, y), 1, 1, linewidth=0.5, edgecolor='black', facecolor='red')\n",
    "        ax.add_patch(rect)\n",
    "\n",
    "    # Draw nodes and their eye directions\n",
    "    for node in agent.nodes:\n",
    "        x, y = node.position\n",
    "        dx, dy = node.eye_direction()\n",
    "        ax.plot(x + 0.5, y + 0.5, 'bo')  # Disk center\n",
    "        ax.arrow(x + 0.5, y + 0.5, 0.3 * dx, 0.3 * dy, head_width=0.2, head_length=0.2, fc='cyan', ec='cyan')\n",
    "\n",
    "    plt.gca().set_aspect('equal', adjustable='box')\n",
    "    plt.tight_layout()\n",
    "    plt.show()\n",
    "\n",
    "# Show the grid at the last timestep\n",
    "visualize_grid(agent, timestep=len(agent.wave_history) - 1)\n"
   ]
  },
  {
   "cell_type": "code",
   "execution_count": 5,
   "id": "e69ee4da-9674-4eaa-aa21-e58dd659fcf7",
   "metadata": {},
   "outputs": [
    {
     "data": {
      "image/png": "[encoded data removed]",
      "text/plain": [
       "<Figure size 600x600 with 1 Axes>"
      ]
     },
     "metadata": {},
     "output_type": "display_data"
    }
   ],
   "source": [
    "# Recreate the agent and run simulation again to regenerate the environment\n",
    "agent = LoopAgent(grid_size=GRID_SIZE, num_nodes=NUM_NODES, num_blocks=25)\n",
    "\n",
    "for t in range(50):\n",
    "    if t == 20:\n",
    "        agent.disturb(kind=\"rotate\")\n",
    "    if t == 25:\n",
    "        agent.retrocollapse()\n",
    "    agent.step()\n",
    "\n",
    "# Now visualize the final grid state with disk positions and directions\n",
    "visualize_grid(agent, timestep=len(agent.wave_history) - 1)\n"
   ]
  },
  {
   "cell_type": "markdown",
   "id": "ed4df68f-6508-4591-9799-12a0011924a9",
   "metadata": {},
   "source": [
    "### Step-1\n",
    "- Constructing the 2D-Grid of 30x30.\n",
    "- Constructing disks with eyes and placing them in a loop.\n",
    "    - Eyes of each disk are directed to form a loop."
   ]
  },
  {
   "cell_type": "code",
   "execution_count": null,
   "id": "25d06eda-4196-402e-b496-bdf7b7198a0a",
   "metadata": {},
   "outputs": [],
   "source": [
    "# Constants\n",
    "GRID_SIZE = 30\n",
    "NUM_NODES = 12\n",
    "ANGLE_STEPS = 36  # i.e. 360/10 = 36 directions"
   ]
  },
  {
   "cell_type": "code",
   "execution_count": 7,
   "id": "65b15ec1-8248-4402-b72e-97cca6aabc5b",
   "metadata": {},
   "outputs": [],
   "source": [
    "#making the Disk\n",
    "class DiskNode:\n",
    "    def __init__(self, node_id, position, eye_angle_idx):\n",
    "        self.id = node_id\n",
    "        self.position = position  # (x, y)\n",
    "        self.eye_angle_idx = eye_angle_idx  # index from 0 to 35\n",
    "        self.connected_to = None  # another DiskNode ID\n",
    "\n",
    "    def rotate_eye(self, delta=1):\n",
    "        self.eye_angle_idx = (self.eye_angle_idx + delta) % ANGLE_STEPS\n",
    "\n",
    "    def eye_direction(self):\n",
    "        angle_deg = self.eye_angle_idx * 10\n",
    "        rad = np.deg2rad(angle_deg)\n",
    "        return np.cos(rad), np.sin(rad)"
   ]
  },
  {
   "cell_type": "code",
   "execution_count": null,
   "id": "4acbe77e-567e-414d-93e9-fb3f8249f26f",
   "metadata": {},
   "outputs": [],
   "source": [
    "#Making the 2D-Grid\n",
    "grid_size = grid_size\n",
    "grid = np.zeros((grid_size, grid_size))"
   ]
  },
  {
   "cell_type": "code",
   "execution_count": null,
   "id": "651f1e23-fed7-447e-9197-6b3f36045fb8",
   "metadata": {},
   "outputs": [],
   "source": [
    "def generate_obstacles(self, num_blocks):\n",
    "    blocks = set()\n",
    "    while len(blocks) < num_blocks:\n",
    "        x, y = random.randint(0, grid_size - 1), random.randint(0, grid_size - 1)\n",
    "        blocks.add((x, y))\n",
    "    for x, y in blocks:\n",
    "        grid[x][y] = -1  # Mark as obstacle\n",
    "    return blocks"
   ]
  },
  {
   "cell_type": "code",
   "execution_count": null,
   "id": "40f44854-fe0f-4d4e-9033-970116c24530",
   "metadata": {},
   "outputs": [],
   "source": [
    "def initialize_nodes(self, num_nodes):\n",
    "    positions = self.get_valid_positions(num_nodes)\n",
    "    for i, pos in enumerate(positions):\n",
    "        angle_idx = random.randint(0, ANGLE_STEPS-1)\n",
    "        self.nodes.append(DiskNode(i, pos, angle_idx))\n",
    "\n",
    "def get_valid_positions(self, num_nodes):\n",
    "    positions = set()\n",
    "    while len(positions) < num_nodes:\n",
    "        x, y = random.randint(1, self.grid_size - 2), random.randint(1, self.grid_size - 2)\n",
    "        if (x, y) not in self.blocks:\n",
    "            positions.add((x, y))\n",
    "    return list(positions)\n",
    "\n",
    "def construct_initial_loop(self):\n",
    "    for i in range(len(self.nodes)):\n",
    "        self.nodes[i].connected_to = self.nodes[(i+1) % len(self.nodes)].id\n",
    "    return True"
   ]
  },
  {
   "cell_type": "code",
   "execution_count": null,
   "id": "0582a204-08a2-4a03-a61a-6e9e9e9ff418",
   "metadata": {},
   "outputs": [],
   "source": [
    "blocks = self.generate_obstacles(num_blocks)\n",
    "nodes = []\n",
    "initialize_nodes(num_nodes)\n",
    "construct_initial_loop()"
   ]
  }
 ],
 "metadata": {
  "kernelspec": {
   "display_name": "Python 3 (ipykernel)",
   "language": "python",
   "name": "python3"
  },
  "language_info": {
   "codemirror_mode": {
    "name": "ipython",
    "version": 3
   },
   "file_extension": ".py",
   "mimetype": "text/x-python",
   "name": "python",
   "nbconvert_exporter": "python",
   "pygments_lexer": "ipython3",
   "version": "3.12.4"
  }
 },
 "nbformat": 4,
 "nbformat_minor": 5
}
